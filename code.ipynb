{
 "cells": [
  {
   "cell_type": "code",
   "execution_count": null,
   "metadata": {},
   "outputs": [],
   "source": [
    "# Import the required libraries:\n",
    "import folium\n",
    "import pandas"
   ]
  },
  {
   "cell_type": "code",
   "execution_count": null,
   "metadata": {},
   "outputs": [],
   "source": [
    "# Source of the data file:\n",
    "data = pandas.read_csv('./data.csv')\n",
    "\n",
    "# Create a Pandas DataFrame:\n",
    "df = pandas.DataFrame(data)\n",
    "\n",
    "# Show the first 5 rows of the data\n",
    "df.head()"
   ]
  },
  {
   "cell_type": "code",
   "execution_count": null,
   "metadata": {},
   "outputs": [],
   "source": [
    "map = folium.Map(\n",
    "    location=[28.904346, -81.2650184],\n",
    "    zoom_start=14,\n",
    "    tiles=\"OpenStreetMap\"\n",
    ")"
   ]
  },
  {
   "cell_type": "code",
   "execution_count": null,
   "metadata": {},
   "outputs": [],
   "source": [
    "for idx, record in df.iterrows():\n",
    "    \n",
    "    title = record.title\n",
    "    address = record.address\n",
    "\n",
    "    popup = folium.Popup(\n",
    "        html=f\"\"\"\n",
    "                <html>\n",
    "                    <head>\n",
    "                        \n",
    "                    <link href=\"https://cdn.jsdelivr.net/npm/bootstrap@5.2.3/dist/css/bootstrap.min.css\" rel=\"stylesheet\" integrity=\"sha384-rbsA2VBKQhggwzxH7pPCaAqO46MgnOM80zW1RWuH61DGLwZJEdK2Kadq2F9CUG65\" crossorigin=\"anonymous\">\n",
    "\n",
    "                    </head>\n",
    "                    <body>\n",
    "                        <h4 class=\"text-center\">\n",
    "                            <!-- You can change the number next to `h` to make the text larger or smaller options are (h1 to h6) h1 is the biggest size -->\n",
    "                            <h3 class=\"text-center\">{title}</h3><br />\n",
    "\n",
    "                            <p class=\"text-center\">{address}</p>\n",
    "                        </h4>\n",
    "                    </body>\n",
    "                </html>\n",
    "            \"\"\",\n",
    "        show=True,\n",
    "        min_width=200,\n",
    "        max_width=200\n",
    "    )\n",
    "    latitude = record.latitude\n",
    "    longitude = record.longitude\n",
    "\n",
    "    marker = folium.Marker(\n",
    "        [longitude, latitude],\n",
    "        popup=popup,\n",
    "    ).add_to(map)\n"
   ]
  },
  {
   "cell_type": "code",
   "execution_count": null,
   "metadata": {},
   "outputs": [],
   "source": [
    "# Show the map:\n",
    "map"
   ]
  },
  {
   "cell_type": "code",
   "execution_count": null,
   "metadata": {},
   "outputs": [],
   "source": [
    "# Save the map to a file called \"index.html\"\n",
    "map.save(\"index.html\")"
   ]
  }
 ],
 "metadata": {
  "kernelspec": {
   "display_name": "Python 3.9.15 ('geopandas')",
   "language": "python",
   "name": "python3"
  },
  "language_info": {
   "codemirror_mode": {
    "name": "ipython",
    "version": 3
   },
   "file_extension": ".py",
   "mimetype": "text/x-python",
   "name": "python",
   "nbconvert_exporter": "python",
   "pygments_lexer": "ipython3",
   "version": "3.9.16 (main, Jan 11 2023, 16:16:36) [MSC v.1916 64 bit (AMD64)]"
  },
  "orig_nbformat": 4,
  "vscode": {
   "interpreter": {
    "hash": "a52e85f83c30b36686142d7a749f178b12d589002ca8638c41ba936ef70765c0"
   }
  }
 },
 "nbformat": 4,
 "nbformat_minor": 2
}
